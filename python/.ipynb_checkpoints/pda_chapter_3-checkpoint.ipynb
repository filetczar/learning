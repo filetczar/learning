{
 "cells": [
  {
   "cell_type": "code",
   "execution_count": 1,
   "metadata": {
    "collapsed": true
   },
   "outputs": [],
   "source": [
    "# Python for Data Analysis - Chapter 3 \n"
   ]
  },
  {
   "cell_type": "code",
   "execution_count": 1,
   "metadata": {
    "collapsed": true
   },
   "outputs": [],
   "source": [
    "tup = ('buddy', 'the', 'elf')\n",
    "lis = ['this', 'is', 'a', 'list']"
   ]
  },
  {
   "cell_type": "code",
   "execution_count": 5,
   "metadata": {},
   "outputs": [
    {
     "name": "stdout",
     "output_type": "stream",
     "text": [
      "['this', 'is', 'a', 'list', 'dummy']\n"
     ]
    }
   ],
   "source": [
    "# insert and append into a list, but insert is computionally expensive \n",
    "lis.append('dummy')\n",
    "print(lis)"
   ]
  },
  {
   "cell_type": "code",
   "execution_count": 6,
   "metadata": {},
   "outputs": [
    {
     "name": "stdout",
     "output_type": "stream",
     "text": [
      "['this', 'is', 'a', 'list']\n"
     ]
    }
   ],
   "source": [
    "# remove \n",
    "lis.remove('dummy')\n",
    "print(lis)"
   ]
  },
  {
   "cell_type": "code",
   "execution_count": 22,
   "metadata": {},
   "outputs": [
    {
     "name": "stdout",
     "output_type": "stream",
     "text": [
      "145 ns ± 2.22 ns per loop (mean ± std. dev. of 7 runs, 10000000 loops each)\n"
     ]
    }
   ],
   "source": [
    "# concatenate lists with + or extend, extend is faster\n",
    "%timeit lis2 = lis + ['of', 'course']"
   ]
  },
  {
   "cell_type": "code",
   "execution_count": 23,
   "metadata": {},
   "outputs": [
    {
     "name": "stdout",
     "output_type": "stream",
     "text": [
      "146 ns ± 1.66 ns per loop (mean ± std. dev. of 7 runs, 10000000 loops each)\n"
     ]
    }
   ],
   "source": [
    "%timeit lis3= lis.extend(['of', 'course'])\n"
   ]
  },
  {
   "cell_type": "code",
   "execution_count": 30,
   "metadata": {},
   "outputs": [
    {
     "data": {
      "text/plain": [
       "[7, 6, 5, 4, 3, 2, 1, 0]"
      ]
     },
     "execution_count": 30,
     "metadata": {},
     "output_type": "execute_result"
    }
   ],
   "source": [
    "# slicing \n",
    "pizza = [0,1,2,3,4,5,6,7] # 8 slices \n",
    "pizza[1:3] # takes elements 1 and 2, -1 short of end\n",
    "pizza[:4] # takes zero to 4th [0,1,2,3]\n",
    "pizza[::2] # every other slice [0,2,4,6]\n",
    "pizza[-2:] # takes from the back [6,7]\n",
    "pizza[::-1] # reverses list"
   ]
  },
  {
   "cell_type": "code",
   "execution_count": 2,
   "metadata": {},
   "outputs": [
    {
     "name": "stdout",
     "output_type": "stream",
     "text": [
      "(0, 'this')\n",
      "(1, 'is')\n",
      "(2, 'a')\n",
      "(3, 'list')\n"
     ]
    }
   ],
   "source": [
    "for i in enumerate(lis):\n",
    "    print(i)"
   ]
  },
  {
   "cell_type": "code",
   "execution_count": 3,
   "metadata": {},
   "outputs": [
    {
     "data": {
      "text/plain": [
       "['Stephen', 'Peter', 'Michelle']"
      ]
     },
     "execution_count": 3,
     "metadata": {},
     "output_type": "execute_result"
    }
   ],
   "source": [
    "# nested programming \n",
    "# idea \n",
    "names = [['John', 'Emily', 'Phil', 'Stephen', 'Peter'], \n",
    "         ['Javier', 'Jose', 'Michelle']]\n",
    "two_es = []\n",
    "for name in names:\n",
    "    for n in name:\n",
    "        if n.count('e') >=2:\n",
    "            two_es.append(n)\n",
    "two_es\n",
    "    "
   ]
  },
  {
   "cell_type": "code",
   "execution_count": 7,
   "metadata": {},
   "outputs": [
    {
     "name": "stdout",
     "output_type": "stream",
     "text": [
      "['Stephen', 'Peter', 'Michelle']\n"
     ]
    }
   ],
   "source": [
    "# or \n",
    "result = [n for name in names for n in name if n.count('e') >=2 ]\n",
    "print(result)"
   ]
  },
  {
   "cell_type": "code",
   "execution_count": null,
   "metadata": {
    "collapsed": true
   },
   "outputs": [],
   "source": []
  }
 ],
 "metadata": {
  "kernelspec": {
   "display_name": "Python 3",
   "language": "python",
   "name": "python3"
  },
  "language_info": {
   "codemirror_mode": {
    "name": "ipython",
    "version": 3
   },
   "file_extension": ".py",
   "mimetype": "text/x-python",
   "name": "python",
   "nbconvert_exporter": "python",
   "pygments_lexer": "ipython3",
   "version": "3.6.3"
  }
 },
 "nbformat": 4,
 "nbformat_minor": 2
}
